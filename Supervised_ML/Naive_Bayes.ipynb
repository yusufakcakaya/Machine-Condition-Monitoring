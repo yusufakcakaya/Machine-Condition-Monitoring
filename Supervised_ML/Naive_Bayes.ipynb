{
 "cells": [
  {
   "cell_type": "code",
   "execution_count": 2,
   "id": "c7926bc8",
   "metadata": {},
   "outputs": [],
   "source": [
    "import numpy as np \n",
    "import pandas as pd \n",
    "import matplotlib.pyplot as plt\n",
    "%matplotlib inline\n",
    "from sklearn.model_selection import train_test_split\n",
    "from sklearn.preprocessing import StandardScaler\n",
    "from sklearn.naive_bayes import GaussianNB\n",
    "from sklearn import metrics\n",
    "from sklearn.model_selection import cross_val_score\n",
    "from sklearn.metrics import roc_auc_score\n",
    "from sklearn.metrics import roc_curve\n",
    "import seaborn as sns\n",
    "import pickle \n"
   ]
  },
  {
   "cell_type": "markdown",
   "id": "c04eb625",
   "metadata": {},
   "source": [
    "### Get Data\n"
   ]
  },
  {
   "cell_type": "code",
   "execution_count": 3,
   "id": "a78507a7",
   "metadata": {},
   "outputs": [
    {
     "data": {
      "text/plain": [
       "(5550, 16)"
      ]
     },
     "execution_count": 3,
     "metadata": {},
     "output_type": "execute_result"
    }
   ],
   "source": [
    "#reading csv file\n",
    "df = pd.read_csv(\"Datasets/fan_0db.csv\")\n",
    "df.shape"
   ]
  },
  {
   "cell_type": "code",
   "execution_count": 4,
   "id": "7be92fc6",
   "metadata": {
    "scrolled": false
   },
   "outputs": [
    {
     "data": {
      "text/html": [
       "<div>\n",
       "<style scoped>\n",
       "    .dataframe tbody tr th:only-of-type {\n",
       "        vertical-align: middle;\n",
       "    }\n",
       "\n",
       "    .dataframe tbody tr th {\n",
       "        vertical-align: top;\n",
       "    }\n",
       "\n",
       "    .dataframe thead th {\n",
       "        text-align: right;\n",
       "    }\n",
       "</style>\n",
       "<table border=\"1\" class=\"dataframe\">\n",
       "  <thead>\n",
       "    <tr style=\"text-align: right;\">\n",
       "      <th></th>\n",
       "      <th>file_name</th>\n",
       "      <th>y_min</th>\n",
       "      <th>y_max</th>\n",
       "      <th>y_mean</th>\n",
       "      <th>y_std</th>\n",
       "      <th>zcr_mean</th>\n",
       "      <th>zcr_min</th>\n",
       "      <th>zcr_max</th>\n",
       "      <th>spec_cent_min</th>\n",
       "      <th>spec_cent_mean</th>\n",
       "      <th>rms_mean</th>\n",
       "      <th>amp_mean</th>\n",
       "      <th>amp_min</th>\n",
       "      <th>melspec_mean</th>\n",
       "      <th>melspec_std</th>\n",
       "      <th>class</th>\n",
       "    </tr>\n",
       "  </thead>\n",
       "  <tbody>\n",
       "    <tr>\n",
       "      <th>0</th>\n",
       "      <td>Audio_Files/0dB_fan/id_00/abnormal/00000059.wav</td>\n",
       "      <td>-0.032230</td>\n",
       "      <td>0.029817</td>\n",
       "      <td>-6.926849e-07</td>\n",
       "      <td>0.009295</td>\n",
       "      <td>0.031904</td>\n",
       "      <td>0.016113</td>\n",
       "      <td>0.054688</td>\n",
       "      <td>1056.230929</td>\n",
       "      <td>1195.770358</td>\n",
       "      <td>0.009263</td>\n",
       "      <td>0.020296</td>\n",
       "      <td>0.012419</td>\n",
       "      <td>0.020323</td>\n",
       "      <td>0.119019</td>\n",
       "      <td>1</td>\n",
       "    </tr>\n",
       "    <tr>\n",
       "      <th>1</th>\n",
       "      <td>Audio_Files/0dB_fan/id_00/abnormal/00000071.wav</td>\n",
       "      <td>-0.034450</td>\n",
       "      <td>0.028665</td>\n",
       "      <td>-6.027881e-07</td>\n",
       "      <td>0.009493</td>\n",
       "      <td>0.021894</td>\n",
       "      <td>0.009766</td>\n",
       "      <td>0.034668</td>\n",
       "      <td>703.965079</td>\n",
       "      <td>800.327823</td>\n",
       "      <td>0.009442</td>\n",
       "      <td>0.020580</td>\n",
       "      <td>0.013375</td>\n",
       "      <td>0.021241</td>\n",
       "      <td>0.128594</td>\n",
       "      <td>1</td>\n",
       "    </tr>\n",
       "    <tr>\n",
       "      <th>2</th>\n",
       "      <td>Audio_Files/0dB_fan/id_00/abnormal/00000065.wav</td>\n",
       "      <td>-0.034897</td>\n",
       "      <td>0.028662</td>\n",
       "      <td>5.634240e-06</td>\n",
       "      <td>0.009543</td>\n",
       "      <td>0.027962</td>\n",
       "      <td>0.010742</td>\n",
       "      <td>0.047852</td>\n",
       "      <td>871.776362</td>\n",
       "      <td>998.865525</td>\n",
       "      <td>0.009508</td>\n",
       "      <td>0.020938</td>\n",
       "      <td>0.015119</td>\n",
       "      <td>0.021519</td>\n",
       "      <td>0.125431</td>\n",
       "      <td>1</td>\n",
       "    </tr>\n",
       "    <tr>\n",
       "      <th>3</th>\n",
       "      <td>Audio_Files/0dB_fan/id_00/abnormal/00000273.wav</td>\n",
       "      <td>-0.024785</td>\n",
       "      <td>0.026773</td>\n",
       "      <td>5.817374e-07</td>\n",
       "      <td>0.006059</td>\n",
       "      <td>0.057802</td>\n",
       "      <td>0.017578</td>\n",
       "      <td>0.087402</td>\n",
       "      <td>1112.632569</td>\n",
       "      <td>1419.440256</td>\n",
       "      <td>0.006014</td>\n",
       "      <td>0.016007</td>\n",
       "      <td>0.010261</td>\n",
       "      <td>0.008460</td>\n",
       "      <td>0.032597</td>\n",
       "      <td>1</td>\n",
       "    </tr>\n",
       "    <tr>\n",
       "      <th>4</th>\n",
       "      <td>Audio_Files/0dB_fan/id_00/abnormal/00000267.wav</td>\n",
       "      <td>-0.034780</td>\n",
       "      <td>0.037046</td>\n",
       "      <td>1.282572e-06</td>\n",
       "      <td>0.004874</td>\n",
       "      <td>0.049731</td>\n",
       "      <td>0.016602</td>\n",
       "      <td>0.279785</td>\n",
       "      <td>771.766407</td>\n",
       "      <td>1154.008254</td>\n",
       "      <td>0.004715</td>\n",
       "      <td>0.012308</td>\n",
       "      <td>0.005732</td>\n",
       "      <td>0.005148</td>\n",
       "      <td>0.024881</td>\n",
       "      <td>1</td>\n",
       "    </tr>\n",
       "  </tbody>\n",
       "</table>\n",
       "</div>"
      ],
      "text/plain": [
       "                                         file_name     y_min     y_max  \\\n",
       "0  Audio_Files/0dB_fan/id_00/abnormal/00000059.wav -0.032230  0.029817   \n",
       "1  Audio_Files/0dB_fan/id_00/abnormal/00000071.wav -0.034450  0.028665   \n",
       "2  Audio_Files/0dB_fan/id_00/abnormal/00000065.wav -0.034897  0.028662   \n",
       "3  Audio_Files/0dB_fan/id_00/abnormal/00000273.wav -0.024785  0.026773   \n",
       "4  Audio_Files/0dB_fan/id_00/abnormal/00000267.wav -0.034780  0.037046   \n",
       "\n",
       "         y_mean     y_std  zcr_mean   zcr_min   zcr_max  spec_cent_min  \\\n",
       "0 -6.926849e-07  0.009295  0.031904  0.016113  0.054688    1056.230929   \n",
       "1 -6.027881e-07  0.009493  0.021894  0.009766  0.034668     703.965079   \n",
       "2  5.634240e-06  0.009543  0.027962  0.010742  0.047852     871.776362   \n",
       "3  5.817374e-07  0.006059  0.057802  0.017578  0.087402    1112.632569   \n",
       "4  1.282572e-06  0.004874  0.049731  0.016602  0.279785     771.766407   \n",
       "\n",
       "   spec_cent_mean  rms_mean  amp_mean   amp_min  melspec_mean  melspec_std  \\\n",
       "0     1195.770358  0.009263  0.020296  0.012419      0.020323     0.119019   \n",
       "1      800.327823  0.009442  0.020580  0.013375      0.021241     0.128594   \n",
       "2      998.865525  0.009508  0.020938  0.015119      0.021519     0.125431   \n",
       "3     1419.440256  0.006014  0.016007  0.010261      0.008460     0.032597   \n",
       "4     1154.008254  0.004715  0.012308  0.005732      0.005148     0.024881   \n",
       "\n",
       "   class  \n",
       "0      1  \n",
       "1      1  \n",
       "2      1  \n",
       "3      1  \n",
       "4      1  "
      ]
     },
     "execution_count": 4,
     "metadata": {},
     "output_type": "execute_result"
    }
   ],
   "source": [
    "df.head()"
   ]
  },
  {
   "cell_type": "code",
   "execution_count": 5,
   "id": "c21e15ea",
   "metadata": {},
   "outputs": [],
   "source": [
    "# drop unnecessary data\n",
    "df = df.drop(columns = 'file_name')\n",
    "\n",
    "X = df.drop(columns = 'class')\n",
    "y = df['class']\n"
   ]
  },
  {
   "cell_type": "code",
   "execution_count": 6,
   "id": "130deaf5",
   "metadata": {
    "scrolled": true
   },
   "outputs": [
    {
     "data": {
      "text/plain": [
       "0    4075\n",
       "1    1475\n",
       "Name: class, dtype: int64"
      ]
     },
     "execution_count": 6,
     "metadata": {},
     "output_type": "execute_result"
    }
   ],
   "source": [
    "count = df['class'].value_counts()\n",
    "count"
   ]
  },
  {
   "cell_type": "code",
   "execution_count": 7,
   "id": "3c9caaa0",
   "metadata": {},
   "outputs": [
    {
     "data": {
      "image/png": "[encoded data removed]",
      "text/plain": [
       "<Figure size 432x288 with 1 Axes>"
      ]
     },
     "metadata": {
      "needs_background": "light"
     },
     "output_type": "display_data"
    }
   ],
   "source": [
    "sns.countplot(x='class',data= df, palette= 'hls')\n",
    "plt.show()"
   ]
  },
  {
   "cell_type": "markdown",
   "id": "37d91d36",
   "metadata": {},
   "source": [
    "### Split Data"
   ]
  },
  {
   "cell_type": "code",
   "execution_count": 8,
   "id": "2708255c",
   "metadata": {},
   "outputs": [],
   "source": [
    "# Split dataset train/test\n",
    "X_train, X_test, y_train, y_test = train_test_split(X, y, test_size=0.2, random_state=42)\n"
   ]
  },
  {
   "cell_type": "markdown",
   "id": "6354d48c",
   "metadata": {},
   "source": [
    "### Standard Scaler\n",
    "\n",
    "- Standardizing a dataset involves rescaling the distribution of values so that the mean of observed values is 0 and the standard deviation is 1."
   ]
  },
  {
   "cell_type": "code",
   "execution_count": 9,
   "id": "72a4313a",
   "metadata": {},
   "outputs": [],
   "source": [
    "scaler = StandardScaler()\n",
    "scaler.fit(X_train)\n",
    "\n",
    "X_train = scaler.transform(X_train)\n",
    "X_test = scaler.transform(X_test)"
   ]
  },
  {
   "cell_type": "markdown",
   "id": "14f84d68",
   "metadata": {},
   "source": [
    "### GaussianNB"
   ]
  },
  {
   "cell_type": "code",
   "execution_count": 10,
   "id": "386da510",
   "metadata": {},
   "outputs": [
    {
     "data": {
      "text/plain": [
       "GaussianNB()"
      ]
     },
     "execution_count": 10,
     "metadata": {},
     "output_type": "execute_result"
    }
   ],
   "source": [
    "classifier = GaussianNB()\n",
    "classifier.fit(X_train, y_train)"
   ]
  },
  {
   "attachments": {
    "image-3.png": {
     "image/png": "[encoded data removed]"
    }
   },
   "cell_type": "markdown",
   "id": "21596108",
   "metadata": {},
   "source": [
    "- Naive Bayes is a statistical classification technique based on Bayes Theorem. It is one of the simplest supervised learning algorithms. Naive Bayes classifier is the fast, accurate and reliable algorithm. Naive Bayes classifiers have high accuracy and speed on large datasets.\n",
    "\n",
    "![image-3.png](attachment:image-3.png)"
   ]
  },
  {
   "cell_type": "code",
   "execution_count": 11,
   "id": "18680c62",
   "metadata": {},
   "outputs": [],
   "source": [
    "# Predict\n",
    "y_pred = classifier.predict(X_test)\n"
   ]
  },
  {
   "cell_type": "code",
   "execution_count": 12,
   "id": "d719be38",
   "metadata": {},
   "outputs": [
    {
     "name": "stdout",
     "output_type": "stream",
     "text": [
      "Test accuracy for NB is: 78.01801801801803\n"
     ]
    }
   ],
   "source": [
    "#Evaluation of the model\n",
    "\n",
    "print('Test accuracy for NB is:',metrics.accuracy_score(y_test,y_pred)*100)"
   ]
  },
  {
   "cell_type": "code",
   "execution_count": 13,
   "id": "b04cde0e",
   "metadata": {},
   "outputs": [
    {
     "name": "stdout",
     "output_type": "stream",
     "text": [
      "\n",
      "Confusion matrix:\n",
      " [[727  70]\n",
      " [174 139]]\n"
     ]
    }
   ],
   "source": [
    "print('\\nConfusion matrix:\\n',metrics.confusion_matrix(y_test,y_pred))"
   ]
  },
  {
   "cell_type": "code",
   "execution_count": 14,
   "id": "372d9fe5",
   "metadata": {
    "scrolled": false
   },
   "outputs": [
    {
     "name": "stdout",
     "output_type": "stream",
     "text": [
      "\n",
      " Classification Report: \n",
      "               precision    recall  f1-score   support\n",
      "\n",
      "           0       0.81      0.91      0.86       797\n",
      "           1       0.67      0.44      0.53       313\n",
      "\n",
      "    accuracy                           0.78      1110\n",
      "   macro avg       0.74      0.68      0.69      1110\n",
      "weighted avg       0.77      0.78      0.77      1110\n",
      "\n"
     ]
    }
   ],
   "source": [
    "print('\\n Classification Report: \\n',metrics.classification_report(y_test,y_pred))"
   ]
  },
  {
   "cell_type": "markdown",
   "id": "fd0e83a3",
   "metadata": {},
   "source": [
    "### Overfitting "
   ]
  },
  {
   "cell_type": "code",
   "execution_count": 15,
   "id": "cbfe8664",
   "metadata": {},
   "outputs": [],
   "source": [
    "def check_overfitting(range_number):\n",
    "    train_scores, test_scores = list(), list()\n",
    "    values = [i for i in range(1, range_number)]\n",
    "    for i in values:\n",
    "        model = GaussianNB()\n",
    "        model.fit(X_train, y_train)\n",
    "        # train accuracy \n",
    "        x_pred = model.predict(X_train)\n",
    "        train_acc = metrics.accuracy_score(y_train, x_pred)\n",
    "        train_scores.append(train_acc)\n",
    "        #test accuracy\n",
    "        y_pred = model.predict(X_test)\n",
    "        test_acc = metrics.accuracy_score(y_test, y_pred)\n",
    "        test_scores.append(test_acc)\n",
    "        print(\"{},    Train: {},   Test: {}\".format(i, train_acc, test_acc))\n",
    "        \n",
    "    plt.plot(values, train_scores, '-o', label='Train')\n",
    "    plt.plot(values, test_scores, '-o', label='Test')\n",
    "    plt.legend()\n",
    "    plt.show()"
   ]
  },
  {
   "cell_type": "code",
   "execution_count": 16,
   "id": "5b6ccc55",
   "metadata": {
    "scrolled": false
   },
   "outputs": [
    {
     "name": "stdout",
     "output_type": "stream",
     "text": [
      "1,    Train: 0.8087837837837838,   Test: 0.7801801801801802\n",
      "2,    Train: 0.8087837837837838,   Test: 0.7801801801801802\n",
      "3,    Train: 0.8087837837837838,   Test: 0.7801801801801802\n",
      "4,    Train: 0.8087837837837838,   Test: 0.7801801801801802\n",
      "5,    Train: 0.8087837837837838,   Test: 0.7801801801801802\n",
      "6,    Train: 0.8087837837837838,   Test: 0.7801801801801802\n",
      "7,    Train: 0.8087837837837838,   Test: 0.7801801801801802\n",
      "8,    Train: 0.8087837837837838,   Test: 0.7801801801801802\n",
      "9,    Train: 0.8087837837837838,   Test: 0.7801801801801802\n"
     ]
    },
    {
     "data": {
      "image/png": "[encoded data removed]",
      "text/plain": [
       "<Figure size 432x288 with 1 Axes>"
      ]
     },
     "metadata": {
      "needs_background": "light"
     },
     "output_type": "display_data"
    }
   ],
   "source": [
    "check_overfitting(10)"
   ]
  },
  {
   "cell_type": "markdown",
   "id": "bad89faa",
   "metadata": {},
   "source": [
    "### Feature Selection\n",
    "\n",
    "- Variance Threshold Feature Selection\n",
    "- Univariate Selection using SelectKBest\n",
    "- Recursive Feature Elimination or RFE\n",
    "- SelectFromModel\n",
    "- Sequential Feature Selection or SFS\n",
    "\n",
    "\n",
    "All results are same with Logistic regression "
   ]
  },
  {
   "cell_type": "markdown",
   "id": "1df4d8a0",
   "metadata": {},
   "source": [
    "### Create New Model With Reduces Features\n"
   ]
  },
  {
   "cell_type": "code",
   "execution_count": 17,
   "id": "3cf90ae7",
   "metadata": {},
   "outputs": [],
   "source": [
    "X = df[['y_std', 'rms_mean', 'amp_mean', 'melspec_mean', 'spec_cent_mean']]\n",
    "y = df['class']"
   ]
  },
  {
   "cell_type": "markdown",
   "id": "24fa837d",
   "metadata": {},
   "source": [
    "### Split Data"
   ]
  },
  {
   "cell_type": "code",
   "execution_count": 18,
   "id": "1701c633",
   "metadata": {},
   "outputs": [],
   "source": [
    "# Split dataset train/test\n",
    "X_train, X_test, y_train, y_test = train_test_split(X, y, test_size=0.2, random_state=1)\n"
   ]
  },
  {
   "cell_type": "markdown",
   "id": "03da5978",
   "metadata": {},
   "source": [
    "### Feature Scaling : Standard Scaler"
   ]
  },
  {
   "cell_type": "code",
   "execution_count": 19,
   "id": "8c5a8bf0",
   "metadata": {},
   "outputs": [],
   "source": [
    "scaler = StandardScaler()\n",
    "scaler.fit(X_train)\n",
    "\n",
    "X_train = scaler.transform(X_train)\n",
    "X_test = scaler.transform(X_test)"
   ]
  },
  {
   "cell_type": "markdown",
   "id": "4a9d10df",
   "metadata": {},
   "source": [
    "### Model"
   ]
  },
  {
   "cell_type": "code",
   "execution_count": 20,
   "id": "a3a01603",
   "metadata": {},
   "outputs": [
    {
     "name": "stdout",
     "output_type": "stream",
     "text": [
      "training set size: 4440 samples \n",
      "test set size: 1110 samples\n"
     ]
    },
    {
     "data": {
      "text/plain": [
       "GaussianNB()"
      ]
     },
     "execution_count": 20,
     "metadata": {},
     "output_type": "execute_result"
    }
   ],
   "source": [
    "print(f'training set size: {X_train.shape[0]} samples \\ntest set size: {X_test.shape[0]} samples')\n",
    "\n",
    "classifier = GaussianNB()\n",
    "classifier.fit(X_train, y_train)"
   ]
  },
  {
   "cell_type": "code",
   "execution_count": 21,
   "id": "d85e7e01",
   "metadata": {},
   "outputs": [],
   "source": [
    "y_pred = classifier.predict(X_test)\n"
   ]
  },
  {
   "cell_type": "markdown",
   "id": "44288f97",
   "metadata": {},
   "source": [
    "### Evaluation"
   ]
  },
  {
   "cell_type": "code",
   "execution_count": 22,
   "id": "547d8483",
   "metadata": {},
   "outputs": [
    {
     "name": "stdout",
     "output_type": "stream",
     "text": [
      "Test accuracy for NB is: 79.63963963963964\n"
     ]
    }
   ],
   "source": [
    "print('Test accuracy for NB is:',metrics.accuracy_score(y_test,y_pred)*100)"
   ]
  },
  {
   "cell_type": "code",
   "execution_count": 23,
   "id": "e2591e45",
   "metadata": {
    "scrolled": true
   },
   "outputs": [
    {
     "name": "stdout",
     "output_type": "stream",
     "text": [
      "\n",
      "Confusion matrix:\n",
      " [[755  61]\n",
      " [165 129]]\n"
     ]
    }
   ],
   "source": [
    "cnf_matrix = metrics.confusion_matrix(y_test,y_pred)\n",
    "print('\\nConfusion matrix:\\n',cnf_matrix)"
   ]
  },
  {
   "cell_type": "code",
   "execution_count": 24,
   "id": "358811b6",
   "metadata": {
    "scrolled": true
   },
   "outputs": [
    {
     "name": "stdout",
     "output_type": "stream",
     "text": [
      "\n",
      " Classification Report: \n",
      "               precision    recall  f1-score   support\n",
      "\n",
      "           0       0.82      0.93      0.87       816\n",
      "           1       0.68      0.44      0.53       294\n",
      "\n",
      "    accuracy                           0.80      1110\n",
      "   macro avg       0.75      0.68      0.70      1110\n",
      "weighted avg       0.78      0.80      0.78      1110\n",
      "\n"
     ]
    }
   ],
   "source": [
    "print('\\n Classification Report: \\n',metrics.classification_report(y_test,y_pred))"
   ]
  },
  {
   "cell_type": "code",
   "execution_count": 25,
   "id": "3454350f",
   "metadata": {
    "scrolled": true
   },
   "outputs": [
    {
     "data": {
      "image/png": "[encoded data removed]",
      "text/plain": [
       "<Figure size 432x288 with 1 Axes>"
      ]
     },
     "metadata": {
      "needs_background": "light"
     },
     "output_type": "display_data"
    }
   ],
   "source": [
    "from sklearn.metrics import roc_auc_score\n",
    "from sklearn.metrics import roc_curve\n",
    "\n",
    "logit_roc_auc = roc_auc_score(y_test, y_pred)\n",
    "\n",
    "fpr, tpr, thresholds = roc_curve(y_test,classifier.predict_proba(X_test)[:,1])\n",
    "plt.figure()\n",
    "plt.plot(fpr, tpr, label='NB (area = %0.2f)' % logit_roc_auc)\n",
    "plt.plot([0, 1], [0, 1],'r--')\n",
    "plt.xlim([0.0, 1.0])\n",
    "plt.ylim([0.0, 1.05])\n",
    "plt.xlabel('Abnormal')\n",
    "plt.ylabel('Normal')\n",
    "plt.title('Receiver Operating Characteristic')\n",
    "plt.legend(loc=\"lower right\")\n",
    "plt.savefig('ROC_Curve_NB')\n",
    "plt.show()"
   ]
  },
  {
   "cell_type": "markdown",
   "id": "80f1c47a",
   "metadata": {},
   "source": [
    "### Cross Validation"
   ]
  },
  {
   "cell_type": "code",
   "execution_count": 26,
   "id": "d6d5f90f",
   "metadata": {},
   "outputs": [
    {
     "name": "stdout",
     "output_type": "stream",
     "text": [
      "74.74 mean accuracy with a standard deviation of 2.18\n"
     ]
    }
   ],
   "source": [
    "from sklearn.model_selection import cross_val_score\n",
    "\n",
    "accuracies = cross_val_score(estimator = classifier, X = X, y = y, cv=10)\n",
    "AccuraciesMean = accuracies.mean()*100\n",
    "StandardDeviation = accuracies.std()*100\n",
    "\n",
    "print(\"%0.2f mean accuracy with a standard deviation of %0.2f\" % (AccuraciesMean, StandardDeviation))\n"
   ]
  },
  {
   "cell_type": "code",
   "execution_count": 27,
   "id": "c5ca5fb4",
   "metadata": {},
   "outputs": [
    {
     "data": {
      "text/plain": [
       "array([0.78738739, 0.77297297, 0.78018018, 0.73153153, 0.73333333,\n",
       "       0.73513514, 0.73513514, 0.73333333, 0.72972973, 0.73513514])"
      ]
     },
     "execution_count": 27,
     "metadata": {},
     "output_type": "execute_result"
    }
   ],
   "source": [
    "accuracies"
   ]
  },
  {
   "cell_type": "markdown",
   "id": "4913ccfb",
   "metadata": {},
   "source": [
    "### Create a model\n"
   ]
  },
  {
   "cell_type": "code",
   "execution_count": null,
   "id": "d623fc9f",
   "metadata": {},
   "outputs": [],
   "source": [
    "# save model\n",
    "filename = 'fan_0db_NB.sav'\n",
    "pickle.dump(classifier, open(filename, 'wb'))\n"
   ]
  },
  {
   "cell_type": "code",
   "execution_count": null,
   "id": "02fbb3e9",
   "metadata": {},
   "outputs": [],
   "source": [
    "# try model\n",
    "rf_model = pickle.load(open(filename, 'rb'))\n"
   ]
  },
  {
   "cell_type": "code",
   "execution_count": null,
   "id": "9d3c4c3b",
   "metadata": {},
   "outputs": [],
   "source": [
    "result = rf_model.predict(X_test)"
   ]
  },
  {
   "cell_type": "code",
   "execution_count": null,
   "id": "70eec4da",
   "metadata": {},
   "outputs": [],
   "source": [
    "result"
   ]
  }
 ],
 "metadata": {
  "kernelspec": {
   "display_name": "cluster",
   "language": "python",
   "name": "cluster"
  },
  "language_info": {
   "codemirror_mode": {
    "name": "ipython",
    "version": 3
   },
   "file_extension": ".py",
   "mimetype": "text/x-python",
   "name": "python",
   "nbconvert_exporter": "python",
   "pygments_lexer": "ipython3",
   "version": "3.8.12"
  }
 },
 "nbformat": 4,
 "nbformat_minor": 5
}
